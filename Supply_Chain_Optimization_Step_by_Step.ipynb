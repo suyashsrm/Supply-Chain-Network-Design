{
 "cells": [
  {
   "cell_type": "markdown",
   "id": "6dcaa802",
   "metadata": {},
   "source": [
    "\n",
    "# Supply Chain Network Optimization\n",
    "\n",
    "This notebook demonstrates the optimization of a supply chain network using Python and the PuLP library. We will:\n",
    "- Import the necessary data.\n",
    "- Define the problem and objective function.\n",
    "- Add constraints for factories, distribution centers, and customers.\n",
    "- Solve the optimization problem and analyze the results.\n"
   ]
  },
  {
   "cell_type": "markdown",
   "id": "08ace05d",
   "metadata": {},
   "source": [
    "\n",
    "## Step 1: Import Necessary Libraries\n",
    "\n",
    "We will use the following libraries:\n",
    "- **pandas**: For data manipulation.\n",
    "- **pulp**: For solving linear programming problems.\n"
   ]
  },
  {
   "cell_type": "code",
   "execution_count": 1,
   "id": "eef74841",
   "metadata": {},
   "outputs": [
    {
     "name": "stdout",
     "output_type": "stream",
     "text": [
      "Requirement already satisfied: nbformat in /Users/suyashranjan/anaconda3/lib/python3.11/site-packages (5.9.2)\n",
      "Requirement already satisfied: fastjsonschema in /Users/suyashranjan/anaconda3/lib/python3.11/site-packages (from nbformat) (2.16.2)\n",
      "Requirement already satisfied: jsonschema>=2.6 in /Users/suyashranjan/anaconda3/lib/python3.11/site-packages (from nbformat) (4.17.3)\n",
      "Requirement already satisfied: jupyter-core in /Users/suyashranjan/anaconda3/lib/python3.11/site-packages (from nbformat) (5.3.0)\n",
      "Requirement already satisfied: traitlets>=5.1 in /Users/suyashranjan/anaconda3/lib/python3.11/site-packages (from nbformat) (5.7.1)\n",
      "Requirement already satisfied: attrs>=17.4.0 in /Users/suyashranjan/anaconda3/lib/python3.11/site-packages (from jsonschema>=2.6->nbformat) (22.1.0)\n",
      "Requirement already satisfied: pyrsistent!=0.17.0,!=0.17.1,!=0.17.2,>=0.14.0 in /Users/suyashranjan/anaconda3/lib/python3.11/site-packages (from jsonschema>=2.6->nbformat) (0.18.0)\n",
      "Requirement already satisfied: platformdirs>=2.5 in /Users/suyashranjan/anaconda3/lib/python3.11/site-packages (from jupyter-core->nbformat) (2.5.2)\n",
      "\n",
      "\u001b[1m[\u001b[0m\u001b[34;49mnotice\u001b[0m\u001b[1;39;49m]\u001b[0m\u001b[39;49m A new release of pip is available: \u001b[0m\u001b[31;49m24.0\u001b[0m\u001b[39;49m -> \u001b[0m\u001b[32;49m24.2\u001b[0m\n",
      "\u001b[1m[\u001b[0m\u001b[34;49mnotice\u001b[0m\u001b[1;39;49m]\u001b[0m\u001b[39;49m To update, run: \u001b[0m\u001b[32;49mpip install --upgrade pip\u001b[0m\n",
      "Note: you may need to restart the kernel to use updated packages.\n"
     ]
    }
   ],
   "source": [
    "pip install nbformat\n"
   ]
  },
  {
   "cell_type": "code",
   "execution_count": 4,
   "id": "ee0dfaeb",
   "metadata": {},
   "outputs": [
    {
     "name": "stdout",
     "output_type": "stream",
     "text": [
      "Collecting pulp\n",
      "  Using cached PuLP-2.9.0-py3-none-any.whl.metadata (5.4 kB)\n",
      "Downloading PuLP-2.9.0-py3-none-any.whl (17.7 MB)\n",
      "\u001b[2K   \u001b[90m━━━━━━━━━━━━━━━━━━━━━━━━━━━━━━━━━━━━━━━━\u001b[0m \u001b[32m17.7/17.7 MB\u001b[0m \u001b[31m1.0 MB/s\u001b[0m eta \u001b[36m0:00:00\u001b[0m00:01\u001b[0m00:01\u001b[0mm\n",
      "\u001b[?25hInstalling collected packages: pulp\n",
      "Successfully installed pulp-2.9.0\n",
      "\n",
      "\u001b[1m[\u001b[0m\u001b[34;49mnotice\u001b[0m\u001b[1;39;49m]\u001b[0m\u001b[39;49m A new release of pip is available: \u001b[0m\u001b[31;49m24.0\u001b[0m\u001b[39;49m -> \u001b[0m\u001b[32;49m24.2\u001b[0m\n",
      "\u001b[1m[\u001b[0m\u001b[34;49mnotice\u001b[0m\u001b[1;39;49m]\u001b[0m\u001b[39;49m To update, run: \u001b[0m\u001b[32;49mpip install --upgrade pip\u001b[0m\n",
      "Note: you may need to restart the kernel to use updated packages.\n"
     ]
    }
   ],
   "source": [
    "pip install pulp"
   ]
  },
  {
   "cell_type": "code",
   "execution_count": 5,
   "id": "eec6c25c",
   "metadata": {},
   "outputs": [],
   "source": [
    "\n",
    "import pandas as pd\n",
    "from pulp import LpProblem, LpMinimize, LpVariable, lpSum, LpInteger\n"
   ]
  },
  {
   "cell_type": "markdown",
   "id": "bda655fd",
   "metadata": {},
   "source": [
    "\n",
    "## Step 2: Load and Prepare Data\n",
    "\n",
    "Load the distance matrix, factories, distribution centers, and customer demand data.\n"
   ]
  },
  {
   "cell_type": "code",
   "execution_count": 14,
   "id": "6aa7585a",
   "metadata": {},
   "outputs": [
    {
     "name": "stdout",
     "output_type": "stream",
     "text": [
      "        Source Destination  Distance  Index\n",
      "0    Liverpool   Newcastle       178      1\n",
      "1    Liverpool  Birmingham        99      2\n",
      "2    Liverpool      London       221      3\n",
      "3    Liverpool      Exeter       251      4\n",
      "4     Brighton   Newcastle       345      5\n",
      "5     Brighton  Birmingham       176      6\n",
      "6     Brighton      London        65      7\n",
      "7     Brighton      Exeter       206      8\n",
      "8    Newcastle    Carlisle        60      9\n",
      "9    Newcastle  Darlington        37     10\n",
      "10   Newcastle   Sheffield       130     11\n",
      "11   Newcastle   Cambridge       236     12\n",
      "12   Newcastle      Oxford       258     13\n",
      "13   Newcastle       Truro       458     14\n",
      "14  Birmingham    Carlisle       193     15\n",
      "15  Birmingham  Darlington       172     16\n",
      "16  Birmingham   Sheffield        91     17\n",
      "17  Birmingham   Cambridge        99     18\n",
      "18  Birmingham      Oxford        79     19\n",
      "19  Birmingham       Truro       249     20\n",
      "20      London    Carlisle       307     21\n",
      "21      London  Darlington       249     22\n",
      "22      London   Sheffield       168     23\n",
      "23      London   Cambridge        58     24\n",
      "24      London      Oxford        56     25\n",
      "25      London       Truro       284     26\n",
      "26      Exeter    Carlisle       346     27\n",
      "27      Exeter  Darlington       354     28\n",
      "28      Exeter   Sheffield       251     29\n",
      "29      Exeter   Cambridge       248     30\n",
      "30      Exeter      Oxford       163     31\n",
      "31      Exeter       Truro        90     32\n"
     ]
    }
   ],
   "source": [
    "\n",
    "# Set working directory and read data (adjust the path as needed)\n",
    "dist = pd.read_csv(\"Distance Matrix.csv\")\n",
    "\n",
    "# Add index column for reference\n",
    "dist['Index'] = range(1, len(dist) + 1)\n",
    "\n",
    "# Define factories and their capacities\n",
    "factories = pd.DataFrame({'Factory': dist['Source'].unique()[:2], 'Capacity': [150000, 200000]})\n",
    "\n",
    "# Define distribution centers and their throughput capacities\n",
    "distribution_centers = pd.DataFrame({\n",
    "    'DistCentre': dist['Source'].unique()[2:6],\n",
    "    'Throughput': [70000, 50000, 100000, 40000]\n",
    "})\n",
    "\n",
    "# Define customers and their demand\n",
    "customers = pd.DataFrame({\n",
    "    'Customer': dist['Destination'].unique()[4:10],\n",
    "    'Demand': [50000, 10000, 40000, 35000, 60000, 20000]\n",
    "})\n",
    "\n",
    "# Print the data for verification\n",
    "print(dist)\n",
    "\n"
   ]
  },
  {
   "cell_type": "code",
   "execution_count": 15,
   "id": "a1b3b910",
   "metadata": {},
   "outputs": [
    {
     "name": "stdout",
     "output_type": "stream",
     "text": [
      "     Factory  Capacity\n",
      "0  Liverpool    150000\n",
      "1   Brighton    200000\n"
     ]
    }
   ],
   "source": [
    "print(factories)\n"
   ]
  },
  {
   "cell_type": "code",
   "execution_count": 17,
   "id": "19e0d6bd",
   "metadata": {},
   "outputs": [
    {
     "name": "stdout",
     "output_type": "stream",
     "text": [
      "   DistCentre  Throughput\n",
      "0   Newcastle       70000\n",
      "1  Birmingham       50000\n",
      "2      London      100000\n",
      "3      Exeter       40000\n"
     ]
    }
   ],
   "source": [
    "print(distribution_centers)"
   ]
  },
  {
   "cell_type": "code",
   "execution_count": 16,
   "id": "23736cee",
   "metadata": {},
   "outputs": [
    {
     "name": "stdout",
     "output_type": "stream",
     "text": [
      "     Customer  Demand\n",
      "0    Carlisle   50000\n",
      "1  Darlington   10000\n",
      "2   Sheffield   40000\n",
      "3   Cambridge   35000\n",
      "4      Oxford   60000\n",
      "5       Truro   20000\n"
     ]
    }
   ],
   "source": [
    "print(customers)"
   ]
  },
  {
   "cell_type": "markdown",
   "id": "4960df48",
   "metadata": {},
   "source": [
    "\n",
    "## Step 3: Define the Optimization Problem\n",
    "\n",
    "We will define the optimization problem using PuLP, specifying the objective function (minimizing cost) and the constraints.\n"
   ]
  },
  {
   "cell_type": "code",
   "execution_count": 10,
   "id": "b75205c7",
   "metadata": {},
   "outputs": [],
   "source": [
    "\n",
    "# Create LP problem\n",
    "model = LpProblem(\"Supply_Chain_Optimization\", LpMinimize)\n",
    "\n",
    "# Create decision variables for quantities to be shipped\n",
    "decision_vars = LpVariable.dicts(\"Qty\", (dist['Index']), lowBound=0, cat=LpInteger)\n",
    "\n",
    "# Objective function: Minimize cost = quantity shipped x distance\n",
    "model += lpSum([decision_vars[i] * dist.loc[i - 1, 'Distance'] for i in dist['Index']])\n"
   ]
  },
  {
   "cell_type": "markdown",
   "id": "e6dc60f8",
   "metadata": {},
   "source": [
    "\n",
    "## Step 4: Add Constraints\n",
    "\n",
    "We will add constraints for:\n",
    "- Factory capacities\n",
    "- Distribution centers (flow balance and throughput limits)\n",
    "- Customer demand\n"
   ]
  },
  {
   "cell_type": "code",
   "execution_count": 11,
   "id": "54a1c232",
   "metadata": {},
   "outputs": [],
   "source": [
    "\n",
    "# Capacity constraints for factories\n",
    "for factory in factories['Factory']:\n",
    "    factory_data = dist[dist['Source'] == factory]\n",
    "    model += lpSum([decision_vars[i] for i in factory_data['Index']]) <= factories.loc[factories['Factory'] == factory, 'Capacity'].values[0]\n",
    "\n",
    "# Constraints for distribution centers: Qty out of DC - Qty into DC = 0, Qty out of DC <= throughput\n",
    "for dc in distribution_centers['DistCentre']:\n",
    "    dc_out_data = dist[dist['Source'] == dc]\n",
    "    dc_in_data = dist[dist['Destination'] == dc]\n",
    "    \n",
    "    model += lpSum([decision_vars[i] for i in dc_out_data['Index']]) - lpSum([decision_vars[i] for i in dc_in_data['Index']]) == 0\n",
    "    model += lpSum([decision_vars[i] for i in dc_out_data['Index']]) <= distribution_centers.loc[distribution_centers['DistCentre'] == dc, 'Throughput'].values[0]\n",
    "\n",
    "# Constraints for customer demands: Quantity into customer = demand\n",
    "for customer in customers['Customer']:\n",
    "    customer_data = dist[dist['Destination'] == customer]\n",
    "    model += lpSum([decision_vars[i] for i in customer_data['Index']]) == customers.loc[customers['Customer'] == customer, 'Demand'].values[0]\n"
   ]
  },
  {
   "cell_type": "markdown",
   "id": "81d1a105",
   "metadata": {},
   "source": [
    "\n",
    "## Step 5: Solve the Model\n",
    "\n",
    "Use the PuLP solver to solve the optimization problem and obtain the optimal solution.\n"
   ]
  },
  {
   "cell_type": "code",
   "execution_count": 18,
   "id": "d0d9121f",
   "metadata": {},
   "outputs": [
    {
     "name": "stdout",
     "output_type": "stream",
     "text": [
      "Welcome to the CBC MILP Solver \n",
      "Version: 2.10.3 \n",
      "Build Date: Dec 15 2019 \n",
      "\n",
      "command line - /Users/suyashranjan/anaconda3/lib/python3.11/site-packages/pulp/solverdir/cbc/osx/64/cbc /var/folders/s2/nn8l_8pj1vv5ppnf6gr5n1pm0000gn/T/c31d7e29a9e24434b798c7477ce7d64f-pulp.mps -timeMode elapsed -branch -printingOptions all -solution /var/folders/s2/nn8l_8pj1vv5ppnf6gr5n1pm0000gn/T/c31d7e29a9e24434b798c7477ce7d64f-pulp.sol (default strategy 1)\n",
      "At line 2 NAME          MODEL\n",
      "At line 3 ROWS\n",
      "At line 21 COLUMNS\n",
      "At line 206 RHS\n",
      "At line 223 BOUNDS\n",
      "At line 256 ENDATA\n",
      "Problem MODEL has 16 rows, 32 columns and 88 elements\n",
      "Coin0008I MODEL read with 0 errors\n",
      "Option for timeMode changed from cpu to elapsed\n",
      "Continuous objective value is 3.9135e+07 - 0.00 seconds\n",
      "Cgl0003I 0 fixed, 1 tightened bounds, 0 strengthened rows, 0 substitutions\n",
      "Cgl0004I processed model has 16 rows, 32 columns (32 integer (0 of which binary)) and 88 elements\n",
      "Cutoff increment increased from 1e-05 to 0.9999\n",
      "Cbc0012I Integer solution of 39135000 found by DiveCoefficient after 0 iterations and 0 nodes (0.00 seconds)\n",
      "Cbc0001I Search completed - best objective 39135000, took 0 iterations and 0 nodes (0.00 seconds)\n",
      "Cbc0035I Maximum depth 0, 0 variables fixed on reduced cost\n",
      "Cuts at root node changed objective from 3.9135e+07 to 3.9135e+07\n",
      "Probing was tried 0 times and created 0 cuts of which 0 were active after adding rounds of cuts (0.000 seconds)\n",
      "Gomory was tried 0 times and created 0 cuts of which 0 were active after adding rounds of cuts (0.000 seconds)\n",
      "Knapsack was tried 0 times and created 0 cuts of which 0 were active after adding rounds of cuts (0.000 seconds)\n",
      "Clique was tried 0 times and created 0 cuts of which 0 were active after adding rounds of cuts (0.000 seconds)\n",
      "MixedIntegerRounding2 was tried 0 times and created 0 cuts of which 0 were active after adding rounds of cuts (0.000 seconds)\n",
      "FlowCover was tried 0 times and created 0 cuts of which 0 were active after adding rounds of cuts (0.000 seconds)\n",
      "TwoMirCuts was tried 0 times and created 0 cuts of which 0 were active after adding rounds of cuts (0.000 seconds)\n",
      "ZeroHalf was tried 0 times and created 0 cuts of which 0 were active after adding rounds of cuts (0.000 seconds)\n",
      "\n",
      "Result - Optimal solution found\n",
      "\n",
      "Objective value:                39135000.00000000\n",
      "Enumerated nodes:               0\n",
      "Total iterations:               0\n",
      "Time (CPU seconds):             0.00\n",
      "Time (Wallclock seconds):       0.00\n",
      "\n",
      "Option for printingOptions changed from normal to all\n",
      "Total time (CPU seconds):       0.00   (Wallclock seconds):       0.00\n",
      "\n"
     ]
    },
    {
     "data": {
      "text/plain": [
       "1"
      ]
     },
     "execution_count": 18,
     "metadata": {},
     "output_type": "execute_result"
    }
   ],
   "source": [
    "# Solve the optimization problem using PuLP's solve method\n",
    "model.solve()\n"
   ]
  },
  {
   "cell_type": "code",
   "execution_count": 19,
   "id": "e103571f",
   "metadata": {},
   "outputs": [
    {
     "name": "stdout",
     "output_type": "stream",
     "text": [
      "Optimized Cost: 39135000.00\n"
     ]
    }
   ],
   "source": [
    "# Print the optimized cost\n",
    "print(f\"Optimized Cost: {model.objective.value():.2f}\")\n"
   ]
  },
  {
   "cell_type": "code",
   "execution_count": 20,
   "id": "0703af5d",
   "metadata": {},
   "outputs": [
    {
     "name": "stdout",
     "output_type": "stream",
     "text": [
      "Optimized Shipment Quantities:\n",
      "        Source Destination  Distance  Index      Qty\n",
      "0    Liverpool   Newcastle       178      1  60000.0\n",
      "1    Liverpool  Birmingham        99      2  40000.0\n",
      "6     Brighton      London        65      7  95000.0\n",
      "7     Brighton      Exeter       206      8  20000.0\n",
      "8    Newcastle    Carlisle        60      9  50000.0\n",
      "9    Newcastle  Darlington        37     10  10000.0\n",
      "16  Birmingham   Sheffield        91     17  40000.0\n",
      "23      London   Cambridge        58     24  35000.0\n",
      "24      London      Oxford        56     25  60000.0\n",
      "31      Exeter       Truro        90     32  20000.0\n"
     ]
    }
   ],
   "source": [
    "# Extract the optimized shipment quantities for each route\n",
    "dist['Qty'] = [decision_vars[i].varValue for i in dist['Index']]\n",
    "\n",
    "# Print only the routes with non-zero shipment quantities\n",
    "optimized_routes = dist[dist['Qty'] > 0]\n",
    "\n",
    "# Display the optimized shipment quantities\n",
    "print(\"Optimized Shipment Quantities:\")\n",
    "print(optimized_routes)\n"
   ]
  },
  {
   "cell_type": "markdown",
   "id": "ce2ede9d",
   "metadata": {},
   "source": [
    "\n",
    "## Step 6: Modify Factory Capacities and Re-run Solver\n",
    "\n",
    "We will change the factory capacities and solve the problem again to see the impact.\n"
   ]
  },
  {
   "cell_type": "code",
   "execution_count": 21,
   "id": "181b9ae2",
   "metadata": {},
   "outputs": [
    {
     "name": "stdout",
     "output_type": "stream",
     "text": [
      "Welcome to the CBC MILP Solver \n",
      "Version: 2.10.3 \n",
      "Build Date: Dec 15 2019 \n",
      "\n",
      "command line - /Users/suyashranjan/anaconda3/lib/python3.11/site-packages/pulp/solverdir/cbc/osx/64/cbc /var/folders/s2/nn8l_8pj1vv5ppnf6gr5n1pm0000gn/T/3f77f08f8acc44518086dd66dffcd6bb-pulp.mps -timeMode elapsed -branch -printingOptions all -solution /var/folders/s2/nn8l_8pj1vv5ppnf6gr5n1pm0000gn/T/3f77f08f8acc44518086dd66dffcd6bb-pulp.sol (default strategy 1)\n",
      "At line 2 NAME          MODEL\n",
      "At line 3 ROWS\n",
      "At line 21 COLUMNS\n",
      "At line 206 RHS\n",
      "At line 223 BOUNDS\n",
      "At line 256 ENDATA\n",
      "Problem MODEL has 16 rows, 32 columns and 88 elements\n",
      "Coin0008I MODEL read with 0 errors\n",
      "Option for timeMode changed from cpu to elapsed\n",
      "Continuous objective value is 3.9135e+07 - 0.00 seconds\n",
      "Cgl0003I 0 fixed, 1 tightened bounds, 0 strengthened rows, 0 substitutions\n",
      "Cgl0004I processed model has 16 rows, 32 columns (32 integer (0 of which binary)) and 88 elements\n",
      "Cutoff increment increased from 1e-05 to 0.9999\n",
      "Cbc0012I Integer solution of 39135000 found by DiveCoefficient after 0 iterations and 0 nodes (0.01 seconds)\n",
      "Cbc0001I Search completed - best objective 39135000, took 0 iterations and 0 nodes (0.01 seconds)\n",
      "Cbc0035I Maximum depth 0, 0 variables fixed on reduced cost\n",
      "Cuts at root node changed objective from 3.9135e+07 to 3.9135e+07\n",
      "Probing was tried 0 times and created 0 cuts of which 0 were active after adding rounds of cuts (0.000 seconds)\n",
      "Gomory was tried 0 times and created 0 cuts of which 0 were active after adding rounds of cuts (0.000 seconds)\n",
      "Knapsack was tried 0 times and created 0 cuts of which 0 were active after adding rounds of cuts (0.000 seconds)\n",
      "Clique was tried 0 times and created 0 cuts of which 0 were active after adding rounds of cuts (0.000 seconds)\n",
      "MixedIntegerRounding2 was tried 0 times and created 0 cuts of which 0 were active after adding rounds of cuts (0.000 seconds)\n",
      "FlowCover was tried 0 times and created 0 cuts of which 0 were active after adding rounds of cuts (0.000 seconds)\n",
      "TwoMirCuts was tried 0 times and created 0 cuts of which 0 were active after adding rounds of cuts (0.000 seconds)\n",
      "ZeroHalf was tried 0 times and created 0 cuts of which 0 were active after adding rounds of cuts (0.000 seconds)\n",
      "\n",
      "Result - Optimal solution found\n",
      "\n",
      "Objective value:                39135000.00000000\n",
      "Enumerated nodes:               0\n",
      "Total iterations:               0\n",
      "Time (CPU seconds):             0.00\n",
      "Time (Wallclock seconds):       0.01\n",
      "\n",
      "Option for printingOptions changed from normal to all\n",
      "Total time (CPU seconds):       0.00   (Wallclock seconds):       0.02\n",
      "\n",
      "Optimized Cost (After Capacity Changes): 39135000.0\n",
      "        Source Destination  Distance  Index      Qty\n",
      "0    Liverpool   Newcastle       178      1  60000.0\n",
      "1    Liverpool  Birmingham        99      2  40000.0\n",
      "6     Brighton      London        65      7  95000.0\n",
      "7     Brighton      Exeter       206      8  20000.0\n",
      "8    Newcastle    Carlisle        60      9  50000.0\n",
      "9    Newcastle  Darlington        37     10  10000.0\n",
      "16  Birmingham   Sheffield        91     17  40000.0\n",
      "23      London   Cambridge        58     24  35000.0\n",
      "24      London      Oxford        56     25  60000.0\n",
      "31      Exeter       Truro        90     32  20000.0\n"
     ]
    }
   ],
   "source": [
    "\n",
    "# Modify factory capacities\n",
    "factories.loc[factories['Factory'] == 'Liverpool', 'Capacity'] = 500000\n",
    "factories.loc[factories['Factory'] == 'Brighton', 'Capacity'] = 100000\n",
    "\n",
    "# Re-run solver\n",
    "model.solve()\n",
    "\n",
    "# Print the optimized cost after changing capacities\n",
    "print(f\"Optimized Cost (After Capacity Changes): {model.objective.value()}\")\n",
    "\n",
    "# Print the updated quantities for shipments\n",
    "dist['Qty'] = [decision_vars[i].varValue for i in dist['Index']]\n",
    "print(dist[dist['Qty'] > 0])\n"
   ]
  },
  {
   "cell_type": "markdown",
   "id": "e895b276",
   "metadata": {},
   "source": [
    "\n",
    "## Conclusion\n",
    "\n",
    "This notebook demonstrates the process of optimizing a supply chain network using linear programming techniques. \n",
    "We utilized Python and the PuLP library to minimize the shipping costs while satisfying the constraints for factories, distribution centers, and customer demand.\n"
   ]
  }
 ],
 "metadata": {
  "kernelspec": {
   "display_name": "Python 3",
   "language": "python",
   "name": "python3"
  },
  "language_info": {
   "codemirror_mode": {
    "name": "ipython",
    "version": 3
   },
   "file_extension": ".py",
   "mimetype": "text/x-python",
   "name": "python",
   "nbconvert_exporter": "python",
   "pygments_lexer": "ipython3",
   "version": "3.11.3"
  }
 },
 "nbformat": 4,
 "nbformat_minor": 5
}
